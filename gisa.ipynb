{
 "cells": [
  {
   "cell_type": "code",
   "execution_count": 2,
   "metadata": {},
   "outputs": [],
   "source": [
    "import pandas as pd \n",
    "import psycopg2\n",
    "import matplotlib.pyplot as plt\n",
    "import numpy as np"
   ]
  },
  {
   "cell_type": "markdown",
   "metadata": {},
   "source": [
    " "
   ]
  },
  {
   "cell_type": "markdown",
   "metadata": {},
   "source": [
    "### Funzioni per connettere il database e trasformarlo in un DataFrame pandas:\n"
   ]
  },
  {
   "cell_type": "code",
   "execution_count": 6,
   "metadata": {},
   "outputs": [],
   "source": [
    "def connect(params_dic):\n",
    "    conn = None\n",
    "    try:\n",
    "        print('Connecting to the PostgreSQL database...')\n",
    "        conn = psycopg2.connect(**params_dic)\n",
    "    except (Exception, psycopg2.DatabaseError) as error:\n",
    "        print(error)\n",
    "        sys.exit(1) \n",
    "    print(\"Connection successful\")\n",
    "    return conn\n",
    "\n",
    "\n",
    "\n",
    "def postgresql_to_dataframe(conn, select_query, column_names):\n",
    "    cursor = conn.cursor()\n",
    "    try:\n",
    "        cursor.execute(select_query)\n",
    "    except (Exception, psycopg2.DatabaseError) as error:\n",
    "        print(\"Error: %s\" % error)\n",
    "        cursor.close()\n",
    "        return 1\n",
    "    \n",
    "    # Otteniamo una lista di tuple\n",
    "    tupples = cursor.fetchall()\n",
    "    cursor.close()\n",
    "    \n",
    "    # Convertiamo la lista di tuple in un DataFrame pandas\n",
    "    df = pd.DataFrame(tupples, columns=column_names)\n",
    "    return df"
   ]
  },
  {
   "cell_type": "markdown",
   "metadata": {},
   "source": [
    " "
   ]
  },
  {
   "cell_type": "markdown",
   "metadata": {},
   "source": [
    "\n",
    "Connessione al database:"
   ]
  },
  {
   "cell_type": "code",
   "execution_count": 8,
   "metadata": {},
   "outputs": [
    {
     "name": "stdout",
     "output_type": "stream",
     "text": [
      "Connecting to the PostgreSQL database...\n",
      "Connection successful\n"
     ]
    }
   ],
   "source": [
    "param_dic = {\n",
    "    \"host\"      : \"localhost\",\n",
    "    \"database\"  : \"gisa\",\n",
    "    \"user\"      : \"postgres\",\n",
    "    \"password\"  : \"12345\"\n",
    "}\n",
    "\n",
    "conn = connect(param_dic)"
   ]
  },
  {
   "cell_type": "markdown",
   "metadata": {},
   "source": [
    " "
   ]
  },
  {
   "cell_type": "markdown",
   "metadata": {},
   "source": [
    "Conversione in un Pandas dataframe: "
   ]
  },
  {
   "cell_type": "code",
   "execution_count": 17,
   "metadata": {},
   "outputs": [],
   "source": [
    "column_names = [\"id_stabilimento\",\"asl\",\"comune\",\"provincia_stab\",\"macroarea\",\"aggregazione\",\"attivita\",\"punteggio\",\"categoria_rischio_stabilimento\",\"categoria_assegnata_da_cu\",\"categoria_ex_ante\"]\n",
    "#df = postgresql_to_dataframe(conn,\"select * from full___gisa where lower(provincia_stab) != 'null'\",column_names)\n",
    "#df.head()"
   ]
  },
  {
   "cell_type": "code",
   "execution_count": null,
   "metadata": {},
   "outputs": [],
   "source": [
    "df[\"provincia_stab\"]= df[\"provincia_stab\"].apply(str.lower)\n",
    "df.provincia_stab.value_counts()"
   ]
  },
  {
   "cell_type": "markdown",
   "metadata": {},
   "source": [
    " "
   ]
  },
  {
   "cell_type": "markdown",
   "metadata": {},
   "source": [
    " "
   ]
  },
  {
   "cell_type": "markdown",
   "metadata": {},
   "source": [
    "Rendo i campi numerici, da stringhe a interi"
   ]
  },
  {
   "cell_type": "code",
   "execution_count": 220,
   "metadata": {},
   "outputs": [],
   "source": [
    "df['categoria_rischio_stabilimento'] = df['categoria_rischio_stabilimento'].astype(int)\n",
    "df['punteggio'] = df['punteggio'].astype(int)\n",
    "df['id_asl'] = df['id_asl'].astype(int)\n",
    "df['categoria_assegnata_da_cu'] = df['categoria_assegnata_da_cu'].astype(int)\n",
    "df['categoria_ex_ante'] = df['categoria_ex_ante'].astype(int)"
   ]
  },
  {
   "cell_type": "markdown",
   "metadata": {},
   "source": [
    " "
   ]
  },
  {
   "cell_type": "code",
   "execution_count": 221,
   "metadata": {},
   "outputs": [
    {
     "name": "stdout",
     "output_type": "stream",
     "text": [
      "media categoria_rischio_stabilimento: \n",
      " {'napoli': 1.639, 'salerno': 2.035, 'caserta': 1.543, 'benevento': 1.699, 'avellino': 1.504} \n",
      "\n",
      "media categoria_assegnata_da_cu: \n",
      " {'napoli': 1.641, 'salerno': 2.033, 'caserta': 1.526, 'benevento': 1.707, 'avellino': 1.508} \n",
      "\n",
      "media categoria_ex_ante: \n",
      " {'napoli': 2.599, 'salerno': 2.65, 'caserta': 2.55, 'benevento': 2.657, 'avellino': 2.616}\n"
     ]
    }
   ],
   "source": [
    "province = [\"napoli\",\"salerno\",\"caserta\",\"benevento\",\"avellino\"]\n",
    "prov_mean_stab = {}\n",
    "prov_mean_cu = {}\n",
    "prov_mean_exante = {}\n",
    "for prov in province:\n",
    "    x = round(df.categoria_rischio_stabilimento.loc[df.provincia_stab == prov].mean(),3)\n",
    "    prov_mean_stab[prov] = x\n",
    "    \n",
    "for prov in provincie:\n",
    "    x = round(df.categoria_assegnata_da_cu.loc[df.provincia_stab == prov].mean(),3)\n",
    "    prov_mean_cu[prov] = x\n",
    "\n",
    "for prov in province:\n",
    "    x = round(df.categoria_ex_ante.loc[df.provincia_stab == prov].mean(),3)\n",
    "    prov_mean_exante[prov] = x\n",
    "print(\"media categoria_rischio_stabilimento: \\n\",prov_mean_stab,\"\\n\")\n",
    "print(\"media categoria_assegnata_da_cu: \\n\",prov_mean_cu,\"\\n\")\n",
    "print(\"media categoria_ex_ante: \\n\",prov_mean_exante)"
   ]
  },
  {
   "cell_type": "markdown",
   "metadata": {},
   "source": [
    " "
   ]
  },
  {
   "cell_type": "code",
   "execution_count": 222,
   "metadata": {},
   "outputs": [
    {
     "data": {
      "image/png": "[encoded data removed]",
      "text/plain": [
       "<Figure size 1224x432 with 3 Axes>"
      ]
     },
     "metadata": {
      "needs_background": "light"
     },
     "output_type": "display_data"
    }
   ],
   "source": [
    "fig, (ax1, ax2, ax3) = plt.subplots(1,3,figsize = (17, 6))\n",
    "fig.suptitle(\"Media per tipologia di categoria di rischio\", fontsize = 16)\n",
    "\n",
    "ax1.bar(prov_mean_stab.keys(),prov_mean_stab.values(),color=\"lightblue\")\n",
    "ax1.set(title=\"categoria_rischio_stabilimento\")\n",
    "\n",
    "ax2.bar(prov_mean_cu.keys(),prov_mean_cu.values())\n",
    "ax2.set(title=\"categoria_assegnata_da_cu\")\n",
    "\n",
    "ax3.bar(prov_mean_exante.keys(),prov_mean_exante.values(),color=\"darkblue\")\n",
    "ax3.set(title=\"categoria_ex_ante\")\n",
    "\n",
    "plt.show()"
   ]
  },
  {
   "cell_type": "code",
   "execution_count": 270,
   "metadata": {},
   "outputs": [
    {
     "data": {
      "image/png": "[encoded data removed]",
      "text/plain": [
       "<Figure size 1296x432 with 3 Axes>"
      ]
     },
     "metadata": {
      "needs_background": "light"
     },
     "output_type": "display_data"
    },
    {
     "name": "stdout",
     "output_type": "stream",
     "text": [
      "\n",
      "Numero di CU per provincia: \n",
      " {'avellino': 3572, 'benevento': 5992, 'caserta': 9859, 'napoli': 32938, 'salerno': 11768} \n",
      "\n",
      "\n",
      "Numero di stabilimenti controllati per provincia: \n",
      " {'avellino': 1968, 'benevento': 2569, 'caserta': 5463, 'napoli': 16417, 'salerno': 5213} \n",
      "\n"
     ]
    }
   ],
   "source": [
    "numero_cu = df.groupby(by=\"provincia_stab\")[\"id_stabilimento\"].describe()[\"count\"]\n",
    "numero_stab = df.groupby(by=\"provincia_stab\")[\"id_stabilimento\"].describe()[\"unique\"]\n",
    "cu_per_provincia = {key:value for key,value in numero_cu.items()}\n",
    "stab_per_provincia = {key:value for key,value in numero_stab.items()}\n",
    "rapporto_cu_stab = numero_cu/numero_stab \n",
    "\n",
    "fig, (ax1,ax2,ax3) = plt.subplots(1,3,figsize = (18, 6))\n",
    "\n",
    "ax1.bar(cu_per_provincia.keys(),cu_per_provincia.values())\n",
    "ax1.set(title=\"CU per provincia\")\n",
    "\n",
    "ax2.bar(stab_per_provincia.keys(),stab_per_provincia.values())\n",
    "ax2.set(title=\"Numero di stabilimenti controllati per provincia\")\n",
    "\n",
    "ax3.bar(rapporto_cu_stab.keys(),rapporto_cu_stab.values)\n",
    "ax3.set(title=\"Rapporto fra stabilimenti controllati e controlli per provincia\")\n",
    "plt.show()\n",
    "print(\"\\nNumero di CU per provincia: \\n\",cu_per_provincia,\"\\n\")\n",
    "print(\"\\nNumero di stabilimenti controllati per provincia: \\n\",stab_per_provincia,\"\\n\")"
   ]
  },
  {
   "cell_type": "code",
   "execution_count": 224,
   "metadata": {},
   "outputs": [],
   "source": [
    "rischio_bn = df.categoria_rischio_stabilimento.loc[df.provincia_stab == \"benevento\"]\n",
    "rischio_av = df.categoria_rischio_stabilimento.loc[df.provincia_stab == \"avellino\"]\n",
    "rischio_na = df.categoria_rischio_stabilimento.loc[df.provincia_stab == \"napoli\"]\n",
    "rischio_sa = df.categoria_rischio_stabilimento.loc[df.provincia_stab == \"salerno\"]\n",
    "rischio_ce = df.categoria_rischio_stabilimento.loc[df.provincia_stab == \"caserta\"]"
   ]
  },
  {
   "cell_type": "code",
   "execution_count": 267,
   "metadata": {},
   "outputs": [
    {
     "data": {
      "image/png": "[encoded data removed]",
      "text/plain": [
       "<Figure size 432x288 with 1 Axes>"
      ]
     },
     "metadata": {
      "needs_background": "light"
     },
     "output_type": "display_data"
    }
   ],
   "source": [
    "\n",
    "fig, ax = plt.subplots()\n",
    "vp = ax.violinplot([rischio_na,rischio_sa,rischio_ce,rischio_bn,rischio_av],[2,4,6,8,10],widths=2, showmeans=True, showmedians=False, showextrema=False)\n",
    "\n",
    "for body in vp['bodies']:\n",
    "    body.set_alpha(0.9)\n",
    "ax.set(xlim=(1, 11), xticks=np.arange(1, 12),\n",
    "       ylim=(1, 5), yticks=np.arange(1, 6))\n",
    "plt.show()\n",
    "\n"
   ]
  },
  {
   "cell_type": "markdown",
   "metadata": {},
   "source": [
    " "
   ]
  },
  {
   "cell_type": "code",
   "execution_count": 330,
   "metadata": {},
   "outputs": [],
   "source": [
    "linee_aggr = df.aggregazione.unique()\n",
    "rm_aggr = {}\n",
    "for i in linee_aggr:\n",
    "    rm_aggr[i] = int(df.categoria_assegnata_da_cu.loc[df.aggregazione == i].mean())"
   ]
  },
  {
   "cell_type": "code",
   "execution_count": 332,
   "metadata": {},
   "outputs": [
    {
     "data": {
      "text/plain": [
       "{'COMMERCIO AL DETTAGLIO DI ALIMENTI E BEVANDE': 1,\n",
       " \"COMMERCIO ALL'INGROSSO DI ALIMENTI E BEVANDE, CASH AND CARRY\": 1,\n",
       " 'RISTORAZIONE PUBBLICA': 1,\n",
       " '8 - PRODOTTI DELLA PESCA': 3,\n",
       " '6 - PRODOTTI A BASE DI CARNE': 3,\n",
       " \"0 - ATTIVITA' GENERALI\": 3,\n",
       " 'LAVORAZIONE E TRASFORMAZIONE DI CARNE, PRODOTTI A BASE DI CARNE E PREPARAZIONI DI CARNE IN IMPIANTI NON RICONOSCIUTI FUNZIONALMENTE ANNESSI A ESERCIZIO DI VENDITA, CONTIGUI O MENO AD ESSI ': 1,\n",
       " 'RISTORAZIONE COLLETTIVA (COMUNITA ED EVENTI)': 1,\n",
       " 'PRODUZIONE DI PRODOTTI A BASE DI LATTE (IN IMPIANTI NON RICONOSCIUTI)': 1,\n",
       " 'LAVORAZIONE DI FRUTTA E DI ORTAGGI (ESCLUSI I SUCCHI DI FRUTTA E DI ORTAGGI)': 1,\n",
       " 'PRODUZIONE DI PASTA SECCA E/O FRESCA': 1,\n",
       " '9 - LATTE CRUDO E DERIVATI': 3,\n",
       " 'PRODUZIONE DI BEVANDE ALCOLICHE E ACETI': 1,\n",
       " 'PRODUZIONE DI PANE, PIZZA E PRODOTTI DA FORNO E DI PASTICCERIA - FRESCHI E SECCHI': 1,\n",
       " 'PRODUZIONE DI PRODOTTI DI GELATERIA (IN IMPIANTI NON RICONOSCIUTI)': 1,\n",
       " 'PRODUZIONE DI CIBI PRONTI IN GENERE': 1,\n",
       " '1 - CARNE DEGLI UNGULATI DOMESTICI': 3,\n",
       " 'COMMERCIO': 1,\n",
       " 'DITTE REGISTRABILI AI SENSI DEL REG. CE 183/2005 ART. 5, COMMA 2': 1,\n",
       " 'PRODUZIONE E LAVORAZIONE DEL CIOCCOLATO, PRODUZIONE PASTIGLIAGGI, GOMME, CONFETTI,CARAMELLE, ECC.': 1,\n",
       " 'PRODUZIONE DI OLII E GRASSI VEGETALI': 1,\n",
       " 'COLTIVAZIONI NON PERMANENTI AD USO ALIMENTARE UMANO ': 1,\n",
       " 'TOELETTATURA ANIMALI': 2,\n",
       " '10 - UOVA E DERIVATI': 2,\n",
       " '2 - CARNE DI POLLAME E LAGOMORFI': 3,\n",
       " '5 - CARNI MACINATE, PREPARAZIONI DI CARNI E CARNI SEPARATE MECCANICAMENTE': 3,\n",
       " 'LAVORAZIONE E TRASFORMAZIONE DI CARNE, PRODOTTI A BASE DI CARNE E PREPARAZIONI DI CARNE IN IMPIANTI NON RICONOSCIUTI FUNZIONALMENTE ANNESSI A ESERCIZIO DI VENDITA, CONTIGUI O MENO AD ESSI': 1,\n",
       " '7 - MOLLUSCHI BIVALVI VIVI': 3,\n",
       " '12 - GRASSI ANIMALI FUSI E CICCIOLI': 3,\n",
       " 'PRODUZIONE DI BEVANDE DI FRUTTA /ORTAGGI': 2,\n",
       " 'DEPOSITO CONTO TERZI DI ALIMENTI NON SOGGETTO A RICONOSCIMENTO': 1,\n",
       " 'LAVORAZIONE E TRASFORMAZIONE DI PRODOTTI DELLA PESCA IN IMPIANTI NON RICONOSCIUTI FUNZIONALMENTE ANNESSI A ESERCIZIO DI  VENDITA, CONTIGUI O MENO AD ESSI ': 1,\n",
       " 'PIATTAFORMA DI DISTRIBUZIONE ALIMENTI': 1,\n",
       " \"LAVORAZIONE DEL  CAFFE'\": 1,\n",
       " 'STABILIMENTI IN MATERIA DI RIPRODUZIONE ANIMALE CON COMMERCIALIZZAZIONE IN AMBITO NAZIONALE': 1,\n",
       " 'STABILIMENTI RICONOSCIBILI AI SENSI DEL REG. CE 183/2005 ART. 10 COMMA 1': 2,\n",
       " 'PRODUZIONE DELLE BIBITE ANALCOLICHE, DELLE ACQUE MINERALI E DI ALTRE ACQUE IN BOTTIGLIA - REGISTRATI 852': 1,\n",
       " '13 - STOMACI, VESCICHE E INTESTINI TRATTATI': 3,\n",
       " 'LAVORAZIONE DI CEREALI, SEMI, LEGUMI E TUBERI': 2,\n",
       " 'PRODUZIONE DI ZUCCHERO ': 2,\n",
       " 'CATEGORIA I - INTEGRATORI ALIMENTARI': 2,\n",
       " \"RISTORAZIONE COLLETTIVA (COMUNITA' ED EVENTI)\": 1,\n",
       " 'AMBULATORIO VETERINARIO': 3,\n",
       " \"RACCOLTA E LAVORAZIONE DI PRODOTTI DELL'APIARIO\": 1,\n",
       " 'DEPOSITO FARMACI': 1,\n",
       " \"COMMERCIO ALL'INGROSSO DI ALIMENTI E BEVANDE NON SOGGETTO A RICONOSCIMENTO, CASH AND CARRY NON SOGGETTO A RICONOSCIMENTO, MERCATI ALL'INGROSSO \": 1,\n",
       " 'LAVORAZIONE E TRASFORMAZIONE DI PRODOTTI DELLA PESCA IN IMPIANTI NON RICONOSCIUTI FUNZIONALMENTE ANNESSI A ESERCIZIO DI VENDITA, CONTIGUI O MENO AD ESSI': 1,\n",
       " \"CONCENTRAMENTO DI ANIMALI,  PER IL QUALE NON E' NECESSARIO IL CODICE AZIENDALE BDN,  MUNITO DI SCORTA DI FARMACI VETERINARI\": 2,\n",
       " 'UTILIZZO DI ANIMALI AI FINI SCIENTIFICI': 3,\n",
       " 'ALLEVAMENTI/CONCENTRAMENTI DI ANIMALI NON DESTINATI ALLA PRODUZIONE DI ALIMENTI PER USO UMANO': 1,\n",
       " 'DEPOSITO ALIMENTI E BEVANDE FUNZIONALMENTE (MA NON MATERIALMENTE) ANNESSO AD ESERCIZI DI VENDITA DI ALIMENTI FISSI O AD ATTIVITA\\x92 DI COMMERCIO AMBULANTE O A LABORATORI/STABILIMENTI DI PRODUZIONE O A ESERCIZI DI SOMMINISTRAZIONE': 1,\n",
       " '3 - CARNE DI SELVAGGINA DI ALLEVAMENTO': 3,\n",
       " 'MACELLAZIONE DI AVICUNICOLI PRESSO AZIENDE AGRICOLE': 3,\n",
       " \"CANILI/STRUTTURE DI DETENZIONE ANIMALI D'AFFEZIONE (canile)\": 4,\n",
       " 'ESERCIZIO DI VENDITA AL DETTAGLIO CHE EFFETTUA LA VENDITA DI FARMACI VETERINARI (PARAFARMACIA)': 1,\n",
       " \"COMMERCIO ALL'INGROSSO\": 1,\n",
       " 'CLINICA VETERINARIA - CASA DI CURA VETERINARIA': 3,\n",
       " \"LAVORAZIONE DEL TE' ED ALTRI VEGETALI PER INFUSI\": 1,\n",
       " 'ALLEVAMENTO DI ANIMALI NON DESTINATI ALLA PRODUZIONE DI ALIMENTI  (NON DPA)  MUNITO DI SCORTA DI FARMACI VETERINARI': 2,\n",
       " 'PRODUZIONE E TRASFORMAZIONE MATERIALI DESTINATI A VENIRE A CONTATTO CON GLI ALIMENTI': 1,\n",
       " 'AZIENDE ZOOTECNICHE REGISTRABILI AI SENSI DEL REG. CE 183/2005 ART. 5, COMMA 1': 1,\n",
       " 'DISTRIBUTORI AUTOMATICI': 1,\n",
       " 'CATEGORIA V - ALIMENTI ADDIZIONATI DI VITAMINE E MINERALI': 2,\n",
       " \"CANILI/STRUTTURE DI DETENZIONE ANIMALI D'AFFEZIONE (commercio dettaglio)\": 2,\n",
       " 'PRODUZIONE, TRASFORMAZIONE E DEPOSITO E COMMERCIO MATERIALI A CONTATTO CON GLI ALIMENTI': 5,\n",
       " 'COLTIVAZIONI PERMANENTI AD USO ALIMENTARE UMANO': 1,\n",
       " '4 - CARNE DI SELVAGGINA CACCIATA': 4,\n",
       " 'PRODUZIONE DI ALIMENTI VEGETALI IN CUCINA DOMESTICA - HOME FOOD': 1,\n",
       " 'COLTIVAZIONI NON PERMANENTI AD USO ALIMENTARE UMANO': 1,\n",
       " \"LAVORAZIONE DI PRODOTTI DELL'APIARIO\": 1,\n",
       " 'FARMACIA': 1,\n",
       " 'DEPOSITO CONTO TERZI DI ALIMENTI NON SOGGETTO A RICONOSCIMENTO ': 2,\n",
       " 'PRODUZIONI DI ALIMENTI IN ALLEVAMENTO': 1,\n",
       " '14 - GELATINA': 3,\n",
       " '15 - COLLAGENE': 3,\n",
       " 'STRUTTURA VETERINARIA MUNITA DI SCORTA DI FARMACI VETERINARI': 1,\n",
       " 'MACELLAZIONE ED EVISCERAZIONE DI PRODOTTI DELLA PESCA  PRESSO AZIENDE  DI ACQUACOLTURA PER LA VENDITA DIRETTA AL CONSUMATORE FINALE O A DETTAGLIANTI DELLA PROVINCIA/PROVINCE CONTERMINI': 1,\n",
       " 'ADDESTRAMENTO CANI': 1,\n",
       " 'ESERCIZIO DI VENDITA AL DETTAGLIO CHE EFFETTUA LA VENDITA DI FARMACI VETERINARI': 1,\n",
       " 'SALE': 1,\n",
       " 'ALLEVAMENTO DI ANIMALI DESTINATI ALLA PRODUZIONE DI ALIMENTI  (DPA)  MUNITO DI SCORTA DI FARMACI VETERINARI': 1,\n",
       " 'MACELLAZIONE DI AVICUNICOLI PRESSO AZIENDE AGRICOLE E AGRITURISTICHE': 1}"
      ]
     },
     "execution_count": 332,
     "metadata": {},
     "output_type": "execute_result"
    }
   ],
   "source": []
  },
  {
   "cell_type": "code",
   "execution_count": 9,
   "metadata": {},
   "outputs": [
    {
     "name": "stdout",
     "output_type": "stream",
     "text": [
      "Connecting to the PostgreSQL database...\n",
      "Connection successful\n"
     ]
    }
   ],
   "source": [
    "col_name2 = [\"id_stabilimento\",\n",
    "    \"comune\",\n",
    "    \"provincia_stab\",\n",
    "    \"popolazione\",\n",
    "    \"asl\",\n",
    "    \"macroarea\",\n",
    "    \"aggregazione\",\n",
    "    \"attivita\",\n",
    "    \"punteggio\",\n",
    "    \"categoria_rischio_stabilimento\",\n",
    "    \"categoria_assegnata_da_cu\",\n",
    "    \"categoria_ex_ante\",\n",
    "    \"controllati\"]\n",
    "\n",
    "\n",
    "conn2 = connect(param_dic)\n",
    "\n",
    "df_clean = postgresql_to_dataframe(conn2, \"select full___gisa.id_stabilimento, full___gisa.comune,full___gisa.provincia_stab,coalesce(full___gisa.popolazione,0),full___gisa.asl,full___gisa.macroarea,full___gisa.aggregazione,full___gisa.attivita,full___gisa.punteggio,full___gisa.categoria_rischio_stabilimento,full___gisa.categoria_assegnata_da_cu,full___gisa.categoria_ex_ante,full___gisa.controllati from full___gisa\", col_name2)\n"
   ]
  },
  {
   "cell_type": "markdown",
   "metadata": {},
   "source": [
    "### Preparazione dati"
   ]
  },
  {
   "cell_type": "code",
   "execution_count": 155,
   "metadata": {},
   "outputs": [
    {
     "data": {
      "text/html": [
       "<div>\n",
       "<style scoped>\n",
       "    .dataframe tbody tr th:only-of-type {\n",
       "        vertical-align: middle;\n",
       "    }\n",
       "\n",
       "    .dataframe tbody tr th {\n",
       "        vertical-align: top;\n",
       "    }\n",
       "\n",
       "    .dataframe thead th {\n",
       "        text-align: right;\n",
       "    }\n",
       "</style>\n",
       "<table border=\"1\" class=\"dataframe\">\n",
       "  <thead>\n",
       "    <tr style=\"text-align: right;\">\n",
       "      <th></th>\n",
       "      <th>id_stabilimento</th>\n",
       "      <th>comune</th>\n",
       "      <th>provincia_stab</th>\n",
       "      <th>popolazione</th>\n",
       "      <th>asl</th>\n",
       "      <th>macroarea</th>\n",
       "      <th>aggregazione</th>\n",
       "      <th>attivita</th>\n",
       "      <th>punteggio</th>\n",
       "      <th>categoria_rischio_stabilimento</th>\n",
       "      <th>categoria_assegnata_da_cu</th>\n",
       "      <th>categoria_ex_ante</th>\n",
       "      <th>controllati</th>\n",
       "    </tr>\n",
       "  </thead>\n",
       "  <tbody>\n",
       "    <tr>\n",
       "      <th>count</th>\n",
       "      <td>238978</td>\n",
       "      <td>238968</td>\n",
       "      <td>238978</td>\n",
       "      <td>238978</td>\n",
       "      <td>231153</td>\n",
       "      <td>238978</td>\n",
       "      <td>238978</td>\n",
       "      <td>238978</td>\n",
       "      <td>63392</td>\n",
       "      <td>63392</td>\n",
       "      <td>63392</td>\n",
       "      <td>206325</td>\n",
       "      <td>238978</td>\n",
       "    </tr>\n",
       "    <tr>\n",
       "      <th>unique</th>\n",
       "      <td>182798</td>\n",
       "      <td>571</td>\n",
       "      <td>5</td>\n",
       "      <td>521</td>\n",
       "      <td>7</td>\n",
       "      <td>35</td>\n",
       "      <td>156</td>\n",
       "      <td>290</td>\n",
       "      <td>849</td>\n",
       "      <td>5</td>\n",
       "      <td>5</td>\n",
       "      <td>4</td>\n",
       "      <td>2</td>\n",
       "    </tr>\n",
       "    <tr>\n",
       "      <th>top</th>\n",
       "      <td>100001656</td>\n",
       "      <td>napoli</td>\n",
       "      <td>napoli</td>\n",
       "      <td>914758</td>\n",
       "      <td>207</td>\n",
       "      <td>PRODUZIONE PRIMARIA</td>\n",
       "      <td>RISTORAZIONE PUBBLICA</td>\n",
       "      <td>COMMERCIO AL DETTAGLIO DI ALIMENTI E BEVANDE I...</td>\n",
       "      <td>NULL</td>\n",
       "      <td>1</td>\n",
       "      <td>1</td>\n",
       "      <td>2</td>\n",
       "      <td>0</td>\n",
       "    </tr>\n",
       "    <tr>\n",
       "      <th>freq</th>\n",
       "      <td>91</td>\n",
       "      <td>25680</td>\n",
       "      <td>88304</td>\n",
       "      <td>25680</td>\n",
       "      <td>55850</td>\n",
       "      <td>66082</td>\n",
       "      <td>58016</td>\n",
       "      <td>48265</td>\n",
       "      <td>847</td>\n",
       "      <td>38560</td>\n",
       "      <td>38410</td>\n",
       "      <td>124381</td>\n",
       "      <td>175586</td>\n",
       "    </tr>\n",
       "  </tbody>\n",
       "</table>\n",
       "</div>"
      ],
      "text/plain": [
       "       id_stabilimento  comune provincia_stab popolazione     asl  \\\n",
       "count           238978  238968         238978      238978  231153   \n",
       "unique          182798     571              5         521       7   \n",
       "top          100001656  napoli         napoli      914758     207   \n",
       "freq                91   25680          88304       25680   55850   \n",
       "\n",
       "                   macroarea           aggregazione  \\\n",
       "count                 238978                 238978   \n",
       "unique                    35                    156   \n",
       "top     PRODUZIONE PRIMARIA   RISTORAZIONE PUBBLICA   \n",
       "freq                   66082                  58016   \n",
       "\n",
       "                                                 attivita punteggio  \\\n",
       "count                                              238978     63392   \n",
       "unique                                                290       849   \n",
       "top     COMMERCIO AL DETTAGLIO DI ALIMENTI E BEVANDE I...      NULL   \n",
       "freq                                                48265       847   \n",
       "\n",
       "       categoria_rischio_stabilimento categoria_assegnata_da_cu  \\\n",
       "count                           63392                     63392   \n",
       "unique                              5                         5   \n",
       "top                                 1                         1   \n",
       "freq                            38560                     38410   \n",
       "\n",
       "       categoria_ex_ante controllati  \n",
       "count             206325      238978  \n",
       "unique                 4           2  \n",
       "top                    2           0  \n",
       "freq              124381      175586  "
      ]
     },
     "execution_count": 155,
     "metadata": {},
     "output_type": "execute_result"
    }
   ],
   "source": [
    "df_clean.describe()"
   ]
  },
  {
   "cell_type": "code",
   "execution_count": 18,
   "metadata": {},
   "outputs": [],
   "source": [
    "df_clean['controllati'] = df_clean['controllati'].astype(int)\n",
    "df_clean['popolazione'] = df_clean['popolazione'].astype(int)\n"
   ]
  },
  {
   "cell_type": "code",
   "execution_count": 31,
   "metadata": {},
   "outputs": [],
   "source": [
    "rischio_arr = np.array(df_clean.categoria_rischio_stabilimento)\n",
    "rischio_arr = np.array(list(filter(lambda x: x in [1,2,3,4,5,'1','2','3','4','5'], rischio_arr)))\n",
    "rischio_arr = rischio_arr.astype(int)"
   ]
  },
  {
   "cell_type": "code",
   "execution_count": 13,
   "metadata": {},
   "outputs": [],
   "source": [
    "df_contr = df_clean[df_clean.controllati ==1]\n",
    "df_non_contr = df_clean[df_clean.controllati ==0 ]"
   ]
  },
  {
   "cell_type": "code",
   "execution_count": 164,
   "metadata": {},
   "outputs": [],
   "source": [
    "df_contr = df_contr.drop(df_contr[df_contr.popolazione == 0].index)\n",
    "df_contr = df_contr.drop(df_contr[df_contr.punteggio == 0].index)\n",
    "df_non_contr = df_non_contr.drop(df_non_contr[df_non_contr.popolazione == 0].index)\n",
    "df_non_contr = df_non_contr.drop(df_non_contr[df_non_contr.punteggio == 0].index)\n",
    "\n",
    "#df_contr.apply(lambda x: pd.to_numeric(x, errors='coerce')).dropna()\n",
    "#df_non_contr.apply(lambda x: pd.to_numeric(x, errors='coerce')).dropna()\n",
    "\n",
    "df_contr = df_contr.drop(df_contr[df_contr.punteggio == 'NULL'].index)\n",
    "df_non_contr = df_non_contr.drop(df_non_contr[df_non_contr.punteggio == 'NULL'].index)\n",
    "\n",
    "df_contr.popolazione = df_contr.popolazione.astype(int)\n",
    "df_contr.punteggio = df_contr.punteggio.astype(int)\n",
    "df_non_contr.popolazione = df_contr.popolazione.astype(int)\n",
    "df_non_contr.punteggio = df_contr.punteggio.astype(int)\n",
    "df_contr.categoria_rischio_stabilimento = df_contr.categoria_rischio_stabilimento.astype(int)\n",
    "rischio_arr = np.array(df_contr.categoria_rischio_stabilimento)\n",
    "rischio_arr = np.array(list(filter(lambda x: x in [1,2,3,4,5,'1','2','3','4','5'], rischio_arr)))\n",
    "rischio_arr = rischio_arr.astype(int)"
   ]
  },
  {
   "cell_type": "code",
   "execution_count": 57,
   "metadata": {},
   "outputs": [],
   "source": [
    "df_contr.categoria_assegnata_da_cu = df_contr.categoria_assegnata_da_cu.astype(int)\n",
    "df_contr.categoria_ex_ante = df_contr.categoria_ex_ante.astype(int)\n"
   ]
  },
  {
   "cell_type": "code",
   "execution_count": 283,
   "metadata": {},
   "outputs": [],
   "source": [
    "df_contr[\"rischio_in_aumento\"] = np.where((df_contr.categoria_assegnata_da_cu > df_contr.categoria_ex_ante), \"si\",\"no\")"
   ]
  },
  {
   "cell_type": "code",
   "execution_count": 284,
   "metadata": {
    "scrolled": true
   },
   "outputs": [
    {
     "data": {
      "text/html": [
       "<div>\n",
       "<style scoped>\n",
       "    .dataframe tbody tr th:only-of-type {\n",
       "        vertical-align: middle;\n",
       "    }\n",
       "\n",
       "    .dataframe tbody tr th {\n",
       "        vertical-align: top;\n",
       "    }\n",
       "\n",
       "    .dataframe thead th {\n",
       "        text-align: right;\n",
       "    }\n",
       "</style>\n",
       "<table border=\"1\" class=\"dataframe\">\n",
       "  <thead>\n",
       "    <tr style=\"text-align: right;\">\n",
       "      <th></th>\n",
       "      <th>id_stabilimento</th>\n",
       "      <th>comune</th>\n",
       "      <th>provincia_stab</th>\n",
       "      <th>popolazione</th>\n",
       "      <th>asl</th>\n",
       "      <th>macroarea</th>\n",
       "      <th>aggregazione</th>\n",
       "      <th>attivita</th>\n",
       "      <th>punteggio</th>\n",
       "      <th>categoria_rischio_stabilimento</th>\n",
       "      <th>categoria_assegnata_da_cu</th>\n",
       "      <th>categoria_ex_ante</th>\n",
       "      <th>controllati</th>\n",
       "      <th>rischio_in_aumento</th>\n",
       "    </tr>\n",
       "  </thead>\n",
       "  <tbody>\n",
       "    <tr>\n",
       "      <th>0</th>\n",
       "      <td>19006</td>\n",
       "      <td>candida</td>\n",
       "      <td>avellino</td>\n",
       "      <td>1085</td>\n",
       "      <td>201</td>\n",
       "      <td>COMMERCIO ALIMENTI USO UMANO</td>\n",
       "      <td>COMMERCIO AL DETTAGLIO DI ALIMENTI E BEVANDE</td>\n",
       "      <td>COMMERCIO AL DETTAGLIO DI ALIMENTI E BEVANDE I...</td>\n",
       "      <td>115</td>\n",
       "      <td>1</td>\n",
       "      <td>1</td>\n",
       "      <td>2</td>\n",
       "      <td>1</td>\n",
       "      <td>no</td>\n",
       "    </tr>\n",
       "    <tr>\n",
       "      <th>1</th>\n",
       "      <td>19006</td>\n",
       "      <td>candida</td>\n",
       "      <td>avellino</td>\n",
       "      <td>1085</td>\n",
       "      <td>201</td>\n",
       "      <td>COMMERCIO ALIMENTI USO UMANO</td>\n",
       "      <td>COMMERCIO AL DETTAGLIO DI ALIMENTI E BEVANDE</td>\n",
       "      <td>COMMERCIO AL DETTAGLIO DI ALIMENTI E BEVANDE I...</td>\n",
       "      <td>71</td>\n",
       "      <td>1</td>\n",
       "      <td>1</td>\n",
       "      <td>2</td>\n",
       "      <td>1</td>\n",
       "      <td>no</td>\n",
       "    </tr>\n",
       "    <tr>\n",
       "      <th>2</th>\n",
       "      <td>19016</td>\n",
       "      <td>avellino</td>\n",
       "      <td>avellino</td>\n",
       "      <td>52568</td>\n",
       "      <td>201</td>\n",
       "      <td>COMMERCIO ALIMENTI USO UMANO</td>\n",
       "      <td>COMMERCIO AL DETTAGLIO DI ALIMENTI E BEVANDE</td>\n",
       "      <td>COMMERCIO AL DETTAGLIO DI ALIMENTI E BEVANDE I...</td>\n",
       "      <td>56</td>\n",
       "      <td>1</td>\n",
       "      <td>1</td>\n",
       "      <td>2</td>\n",
       "      <td>1</td>\n",
       "      <td>no</td>\n",
       "    </tr>\n",
       "    <tr>\n",
       "      <th>3</th>\n",
       "      <td>19017</td>\n",
       "      <td>avellino</td>\n",
       "      <td>avellino</td>\n",
       "      <td>52568</td>\n",
       "      <td>201</td>\n",
       "      <td>COMMERCIO ALIMENTI USO UMANO</td>\n",
       "      <td>COMMERCIO AL DETTAGLIO DI ALIMENTI E BEVANDE</td>\n",
       "      <td>COMMERCIO AL DETTAGLIO DI ALIMENTI E BEVANDE I...</td>\n",
       "      <td>50</td>\n",
       "      <td>1</td>\n",
       "      <td>1</td>\n",
       "      <td>2</td>\n",
       "      <td>1</td>\n",
       "      <td>no</td>\n",
       "    </tr>\n",
       "    <tr>\n",
       "      <th>4</th>\n",
       "      <td>19022</td>\n",
       "      <td>avellino</td>\n",
       "      <td>avellino</td>\n",
       "      <td>52568</td>\n",
       "      <td>201</td>\n",
       "      <td>COMMERCIO ALIMENTI USO UMANO</td>\n",
       "      <td>COMMERCIO AL DETTAGLIO DI ALIMENTI E BEVANDE</td>\n",
       "      <td>COMMERCIO AL DETTAGLIO DI ALIMENTI E BEVANDE I...</td>\n",
       "      <td>75</td>\n",
       "      <td>1</td>\n",
       "      <td>1</td>\n",
       "      <td>2</td>\n",
       "      <td>1</td>\n",
       "      <td>no</td>\n",
       "    </tr>\n",
       "  </tbody>\n",
       "</table>\n",
       "</div>"
      ],
      "text/plain": [
       "  id_stabilimento    comune provincia_stab  popolazione  asl  \\\n",
       "0           19006   candida       avellino         1085  201   \n",
       "1           19006   candida       avellino         1085  201   \n",
       "2           19016  avellino       avellino        52568  201   \n",
       "3           19017  avellino       avellino        52568  201   \n",
       "4           19022  avellino       avellino        52568  201   \n",
       "\n",
       "                      macroarea                                  aggregazione  \\\n",
       "0  COMMERCIO ALIMENTI USO UMANO  COMMERCIO AL DETTAGLIO DI ALIMENTI E BEVANDE   \n",
       "1  COMMERCIO ALIMENTI USO UMANO  COMMERCIO AL DETTAGLIO DI ALIMENTI E BEVANDE   \n",
       "2  COMMERCIO ALIMENTI USO UMANO  COMMERCIO AL DETTAGLIO DI ALIMENTI E BEVANDE   \n",
       "3  COMMERCIO ALIMENTI USO UMANO  COMMERCIO AL DETTAGLIO DI ALIMENTI E BEVANDE   \n",
       "4  COMMERCIO ALIMENTI USO UMANO  COMMERCIO AL DETTAGLIO DI ALIMENTI E BEVANDE   \n",
       "\n",
       "                                            attivita  punteggio  \\\n",
       "0  COMMERCIO AL DETTAGLIO DI ALIMENTI E BEVANDE I...        115   \n",
       "1  COMMERCIO AL DETTAGLIO DI ALIMENTI E BEVANDE I...         71   \n",
       "2  COMMERCIO AL DETTAGLIO DI ALIMENTI E BEVANDE I...         56   \n",
       "3  COMMERCIO AL DETTAGLIO DI ALIMENTI E BEVANDE I...         50   \n",
       "4  COMMERCIO AL DETTAGLIO DI ALIMENTI E BEVANDE I...         75   \n",
       "\n",
       "   categoria_rischio_stabilimento  categoria_assegnata_da_cu  \\\n",
       "0                               1                          1   \n",
       "1                               1                          1   \n",
       "2                               1                          1   \n",
       "3                               1                          1   \n",
       "4                               1                          1   \n",
       "\n",
       "   categoria_ex_ante  controllati rischio_in_aumento  \n",
       "0                  2            1                 no  \n",
       "1                  2            1                 no  \n",
       "2                  2            1                 no  \n",
       "3                  2            1                 no  \n",
       "4                  2            1                 no  "
      ]
     },
     "execution_count": 284,
     "metadata": {},
     "output_type": "execute_result"
    }
   ],
   "source": [
    "df_contr.head()"
   ]
  },
  {
   "cell_type": "markdown",
   "metadata": {},
   "source": [
    "### Regressione lineare"
   ]
  },
  {
   "cell_type": "markdown",
   "metadata": {},
   "source": [
    "arr_train_x = np.array(df_contr.popolazione)\n",
    "arr_train_y = np.array(df_contr.punteggio)"
   ]
  },
  {
   "cell_type": "code",
   "execution_count": 41,
   "metadata": {},
   "outputs": [
    {
     "data": {
      "text/plain": [
       "60392"
      ]
     },
     "execution_count": 41,
     "metadata": {},
     "output_type": "execute_result"
    }
   ],
   "source": [
    "len(rischio_arr)"
   ]
  },
  {
   "cell_type": "code",
   "execution_count": 236,
   "metadata": {},
   "outputs": [],
   "source": [
    "arr_train_x = arr_train_x.reshape(60392,1)\n",
    "arr_train_y = arr_train_y.reshape(60392,1)"
   ]
  },
  {
   "cell_type": "markdown",
   "metadata": {},
   "source": [
    "Divido il dataset in un train set e test set"
   ]
  },
  {
   "cell_type": "code",
   "execution_count": 237,
   "metadata": {},
   "outputs": [],
   "source": [
    "from sklearn.model_selection import train_test_split"
   ]
  },
  {
   "cell_type": "code",
   "execution_count": 238,
   "metadata": {},
   "outputs": [],
   "source": [
    "X_train, X_test, Y_train, Y_test = train_test_split(arr_train_x ,arr_train_y, test_size = 0.2)\n"
   ]
  },
  {
   "cell_type": "markdown",
   "metadata": {},
   "source": [
    "Importo le librerie per la regressione lineare"
   ]
  },
  {
   "cell_type": "code",
   "execution_count": 239,
   "metadata": {},
   "outputs": [],
   "source": [
    "from sklearn import linear_model\n",
    "from sklearn.metrics import mean_squared_error, r2_score"
   ]
  },
  {
   "cell_type": "code",
   "execution_count": 240,
   "metadata": {},
   "outputs": [],
   "source": [
    "model = linear_model.LinearRegression()"
   ]
  },
  {
   "cell_type": "code",
   "execution_count": 241,
   "metadata": {},
   "outputs": [
    {
     "data": {
      "text/plain": [
       "LinearRegression()"
      ]
     },
     "execution_count": 241,
     "metadata": {},
     "output_type": "execute_result"
    }
   ],
   "source": [
    "model.fit(X_train, Y_train)"
   ]
  },
  {
   "cell_type": "code",
   "execution_count": 242,
   "metadata": {},
   "outputs": [],
   "source": [
    "Y_pred = model.predict(X_test)"
   ]
  },
  {
   "cell_type": "code",
   "execution_count": 243,
   "metadata": {},
   "outputs": [
    {
     "name": "stdout",
     "output_type": "stream",
     "text": [
      "Coefficienis: [[-1.21802153e-05]]\n",
      "Intercetta: [163.4524665]\n",
      "Scarto quadratico medio: 22183.45\n",
      "Coefficente di determinazione: -0.00\n"
     ]
    }
   ],
   "source": [
    "print(\"Coefficienti:\", model.coef_)\n",
    "print(\"Intercetta:\", model.intercept_)\n",
    "print(\"Scarto quadratico medio: %.2f\" % mean_squared_error(Y_test,Y_pred))\n",
    "print(\"Coefficente di determinazione: %.2f\" % r2_score(Y_test,Y_pred))"
   ]
  },
  {
   "cell_type": "markdown",
   "metadata": {},
   "source": [
    "#### La regressione lineare non è efficace, ciò è appurato dal coefficiente di determinazione, che è uguale a 0"
   ]
  },
  {
   "cell_type": "markdown",
   "metadata": {},
   "source": [
    " "
   ]
  },
  {
   "cell_type": "code",
   "execution_count": 42,
   "metadata": {},
   "outputs": [
    {
     "data": {
      "text/plain": [
       "array([[ 1.        , -0.02828698],\n",
       "       [-0.02828698,  1.        ]])"
      ]
     },
     "execution_count": 42,
     "metadata": {},
     "output_type": "execute_result"
    }
   ],
   "source": [
    "np.corrcoef(arr_train_x,rischio_arr)"
   ]
  },
  {
   "cell_type": "code",
   "execution_count": 25,
   "metadata": {},
   "outputs": [
    {
     "ename": "NameError",
     "evalue": "name 'df_contr' is not defined",
     "output_type": "error",
     "traceback": [
      "\u001b[0;31m---------------------------------------------------------------------------\u001b[0m",
      "\u001b[0;31mNameError\u001b[0m                                 Traceback (most recent call last)",
      "\u001b[0;32m<ipython-input-25-c2ddb47018dc>\u001b[0m in \u001b[0;36m<module>\u001b[0;34m\u001b[0m\n\u001b[0;32m----> 1\u001b[0;31m \u001b[0maggr_rischiose_mean\u001b[0m \u001b[0;34m=\u001b[0m \u001b[0mdf_contr\u001b[0m\u001b[0;34m[\u001b[0m\u001b[0;34m(\u001b[0m\u001b[0mdf_contr\u001b[0m\u001b[0;34m.\u001b[0m\u001b[0mrischio_in_aumento\u001b[0m \u001b[0;34m==\u001b[0m \u001b[0;34m'si'\u001b[0m\u001b[0;34m)\u001b[0m\u001b[0;34m]\u001b[0m\u001b[0;34m.\u001b[0m\u001b[0mgroupby\u001b[0m\u001b[0;34m(\u001b[0m\u001b[0mby\u001b[0m\u001b[0;34m=\u001b[0m\u001b[0;34m'aggregazione'\u001b[0m\u001b[0;34m)\u001b[0m\u001b[0;34m.\u001b[0m\u001b[0mcategoria_assegnata_da_cu\u001b[0m\u001b[0;34m.\u001b[0m\u001b[0mmean\u001b[0m\u001b[0;34m(\u001b[0m\u001b[0;34m)\u001b[0m \u001b[0;34m>\u001b[0m \u001b[0;36m2\u001b[0m\u001b[0;34m\u001b[0m\u001b[0;34m\u001b[0m\u001b[0m\n\u001b[0m",
      "\u001b[0;31mNameError\u001b[0m: name 'df_contr' is not defined"
     ]
    }
   ],
   "source": [
    "aggr_rischiose_mean = df_contr[(df_contr.rischio_in_aumento == 'si')].groupby(by='aggregazione').categoria_assegnata_da_cu.mean() > 2"
   ]
  },
  {
   "cell_type": "code",
   "execution_count": 286,
   "metadata": {},
   "outputs": [
    {
     "data": {
      "text/plain": [
       "aggregazione\n",
       "4 - CARNE DI SELVAGGINA CACCIATA                                                                                                                              5.000000\n",
       "PRODUZIONE, TRASFORMAZIONE E DEPOSITO E COMMERCIO MATERIALI A CONTATTO CON GLI ALIMENTI                                                                       5.000000\n",
       "COMMERCIO ALL'INGROSSO DI ALIMENTI E BEVANDE NON SOGGETTO A RICONOSCIMENTO, CASH AND CARRY NON SOGGETTO A RICONOSCIMENTO, MERCATI ALL'INGROSSO                5.000000\n",
       "CLINICA VETERINARIA - CASA DI CURA VETERINARIA                                                                                                                5.000000\n",
       "CANILI/STRUTTURE DI DETENZIONE ANIMALI D'AFFEZIONE (commercio dettaglio)                                                                                      5.000000\n",
       "6 - PRODOTTI A BASE DI CARNE                                                                                                                                  5.000000\n",
       "5 - CARNI MACINATE, PREPARAZIONI DI CARNI E CARNI SEPARATE MECCANICAMENTE                                                                                     5.000000\n",
       "PRODUZIONE DELLE BIBITE ANALCOLICHE, DELLE ACQUE MINERALI E DI ALTRE ACQUE IN BOTTIGLIA - REGISTRATI 852                                                      5.000000\n",
       "ESERCIZIO DI VENDITA AL DETTAGLIO CHE EFFETTUA LA VENDITA DI FARMACI VETERINARI (PARAFARMACIA)                                                                5.000000\n",
       "3 - CARNE DI SELVAGGINA DI ALLEVAMENTO                                                                                                                        5.000000\n",
       "RACCOLTA E LAVORAZIONE DI PRODOTTI DELL'APIARIO                                                                                                               5.000000\n",
       "2 - CARNE DI POLLAME E LAGOMORFI                                                                                                                              5.000000\n",
       "1 - CARNE DEGLI UNGULATI DOMESTICI                                                                                                                            5.000000\n",
       "UTILIZZO DI ANIMALI AI FINI SCIENTIFICI                                                                                                                       4.947368\n",
       "12 - GRASSI ANIMALI FUSI E CICCIOLI                                                                                                                           4.868852\n",
       "13 - STOMACI, VESCICHE E INTESTINI TRATTATI                                                                                                                   4.850000\n",
       "7 - MOLLUSCHI BIVALVI VIVI                                                                                                                                    4.798246\n",
       "8 - PRODOTTI DELLA PESCA                                                                                                                                      4.767442\n",
       "0 - ATTIVITA' GENERALI                                                                                                                                        4.668712\n",
       "PRODUZIONE DI OLII E GRASSI VEGETALI                                                                                                                          4.666667\n",
       "AMBULATORIO VETERINARIO                                                                                                                                       4.555556\n",
       "LAVORAZIONE E TRASFORMAZIONE DI PRODOTTI DELLA PESCA IN IMPIANTI NON RICONOSCIUTI FUNZIONALMENTE ANNESSI A ESERCIZIO DI  VENDITA, CONTIGUI O MENO AD ESSI     4.500000\n",
       "RISTORAZIONE COLLETTIVA (COMUNITA' ED EVENTI)                                                                                                                 4.500000\n",
       "PRODUZIONE DI PRODOTTI A BASE DI LATTE (IN IMPIANTI NON RICONOSCIUTI)                                                                                         4.461538\n",
       "PRODUZIONE DI PRODOTTI DI GELATERIA (IN IMPIANTI NON RICONOSCIUTI)                                                                                            4.431818\n",
       "PRODUZIONE DI CIBI PRONTI IN GENERE                                                                                                                           4.414414\n",
       "COMMERCIO ALL'INGROSSO DI ALIMENTI E BEVANDE, CASH AND CARRY                                                                                                  4.400000\n",
       "PRODUZIONE DI PANE, PIZZA E PRODOTTI DA FORNO E DI PASTICCERIA - FRESCHI E SECCHI                                                                             4.387500\n",
       "TOELETTATURA ANIMALI                                                                                                                                          4.384615\n",
       "9 - LATTE CRUDO E DERIVATI                                                                                                                                    4.371041\n",
       "Name: categoria_assegnata_da_cu, dtype: float64"
      ]
     },
     "execution_count": 286,
     "metadata": {},
     "output_type": "execute_result"
    }
   ],
   "source": [
    "aggr_rischiose_mean.sort_values(ascending=False).nlargest(30)"
   ]
  },
  {
   "cell_type": "code",
   "execution_count": 10,
   "metadata": {},
   "outputs": [],
   "source": [
    "rapporto_contr_tot = (df_clean.loc[df_clean.controllati == 1].groupby('comune').id_stabilimento.count() / df_clean.groupby('comune').id_stabilimento.count()).sort_values() "
   ]
  },
  {
   "cell_type": "code",
   "execution_count": 354,
   "metadata": {},
   "outputs": [],
   "source": [
    "rapporto_contr_tot.to_csv(r'/Users/francesco/Desktop/rapporto_contr_comuni')"
   ]
  },
  {
   "cell_type": "code",
   "execution_count": 449,
   "metadata": {},
   "outputs": [
    {
     "data": {
      "text/plain": [
       "comune\n",
       "furore                    0.011494\n",
       "senerchia                 0.012821\n",
       "san mauro cilento         0.018519\n",
       "carinola                  0.021869\n",
       "villanova del battista    0.023256\n",
       "                            ...   \n",
       "ceraso                    0.100775\n",
       "castelfranci              0.101695\n",
       "flumeri                   0.102041\n",
       "taurano                   0.103704\n",
       "ascea                     0.104575\n",
       "Name: rapporto, Length: 98, dtype: float64"
      ]
     },
     "execution_count": 449,
     "metadata": {},
     "output_type": "execute_result"
    }
   ],
   "source": [
    "rapporto_contr_tot.rapporto[rapporto_contr_tot.rapporto <0.3].nsmallest(98)"
   ]
  },
  {
   "cell_type": "code",
   "execution_count": 384,
   "metadata": {},
   "outputs": [],
   "source": [
    "#rapporto_contr_tot = rapporto_contr_tot.to_frame()\n",
    "#rapporto_contr_tot = rapporto_contr_tot.rename(columns = {\"id_stabilimento\":\"rapporto\"})"
   ]
  },
  {
   "cell_type": "code",
   "execution_count": 441,
   "metadata": {},
   "outputs": [
    {
     "data": {
      "text/plain": [
       "0.2"
      ]
     },
     "execution_count": 441,
     "metadata": {},
     "output_type": "execute_result"
    }
   ],
   "source": [
    "mediana = np.median(np.array(round(rapporto_contr_tot.rapporto.dropna(),2)))"
   ]
  },
  {
   "cell_type": "raw",
   "metadata": {},
   "source": [
    "Da fare:\n",
    "- Decision tree\n",
    "- testare il decision tree"
   ]
  },
  {
   "cell_type": "code",
   "execution_count": 14,
   "metadata": {},
   "outputs": [],
   "source": [
    "def mypercentile(numint, ar):\n",
    "    ar.sort()\n",
    "    #print (ar)\n",
    "    left=ar[0]\n",
    "    right=ar[-1]\n",
    "    #print(left, right)\n",
    "    intlen=(right-left+1)/numint\n",
    "    hist= [0] * numint\n",
    "    currnum=0\n",
    "    currint=0\n",
    "    for a in ar:\n",
    "         \n",
    "         while a > left + currint*intlen:\n",
    "             currint += 1\n",
    "         hist[currint] += 1\n",
    "    n=0\n",
    "    #for v in hist:  \n",
    "        #print(n, v)\n",
    "\n",
    "    plt.hist(ar)\n",
    "    plt.show() "
   ]
  },
  {
   "cell_type": "code",
   "execution_count": 15,
   "metadata": {},
   "outputs": [
    {
     "data": {
      "image/png": "[encoded data removed]",
      "text/plain": [
       "<Figure size 432x288 with 1 Axes>"
      ]
     },
     "metadata": {
      "needs_background": "light"
     },
     "output_type": "display_data"
    }
   ],
   "source": [
    "mypercentile(100,np.array(round(rapporto_contr_tot.dropna(),2)))"
   ]
  },
  {
   "cell_type": "markdown",
   "metadata": {},
   "source": [
    " "
   ]
  },
  {
   "cell_type": "markdown",
   "metadata": {},
   "source": [
    " "
   ]
  },
  {
   "cell_type": "markdown",
   "metadata": {},
   "source": [
    " "
   ]
  },
  {
   "cell_type": "markdown",
   "metadata": {},
   "source": [
    " "
   ]
  },
  {
   "cell_type": "markdown",
   "metadata": {},
   "source": [
    "## Implementazione:\n",
    "Filtro: \n",
    "- rischio_in_aumento = 1\n",
    "- controllati = 0\n",
    "- comune rischioso\n",
    "- aggregazione rischiosa\n",
    "\n",
    "Per ogni asl:\n",
    "Creare 5 array per in base al delta tra media aggregazione e rischio unirli in ordine"
   ]
  },
  {
   "cell_type": "code",
   "execution_count": 5,
   "metadata": {},
   "outputs": [],
   "source": [
    "import pandas as pd \n",
    "import psycopg2\n",
    "import matplotlib.pyplot as plt\n",
    "import numpy as np"
   ]
  },
  {
   "cell_type": "code",
   "execution_count": 6,
   "metadata": {},
   "outputs": [],
   "source": [
    "def connect(params_dic):\n",
    "    conn = None\n",
    "    try:\n",
    "        print('Connecting to the PostgreSQL database...')\n",
    "        conn = psycopg2.connect(**params_dic)\n",
    "    except (Exception, psycopg2.DatabaseError) as error:\n",
    "        print(error)\n",
    "        sys.exit(1) \n",
    "    print(\"Connection successful\")\n",
    "    return conn\n",
    "\n",
    "def postgresql_to_dataframe(conn, select_query, column_names):\n",
    "    cursor = conn.cursor()\n",
    "    try:\n",
    "        cursor.execute(select_query)\n",
    "    except (Exception, psycopg2.DatabaseError) as error:\n",
    "        print(\"Error: %s\" % error)\n",
    "        cursor.close()\n",
    "        return 1\n",
    "    \n",
    "    # Otteniamo una lista di tuple\n",
    "    tupples = cursor.fetchall()\n",
    "    cursor.close()\n",
    "    \n",
    "    # Convertiamo la lista di tuple in un DataFrame pandas\n",
    "    df = pd.DataFrame(tupples, columns=column_names)\n",
    "    return df"
   ]
  },
  {
   "cell_type": "code",
   "execution_count": 7,
   "metadata": {},
   "outputs": [],
   "source": [
    "param_dic = {\n",
    "    \"host\"      : \"localhost\",\n",
    "    \"database\"  : \"gisa\",\n",
    "    \"user\"      : \"postgres\",\n",
    "    \"password\"  : \"12345\"\n",
    "}\n",
    "col_names_ = [\"id_stabilimento\",\"comune\",\"provincia_stab\",\"macroarea\",\"aggregazione\",\"attivita\",\"punteggio\",\"categoria_rischio_stabilimento\",\"categoria_assegnata_da_cu\",\"categoria_ex_ante\",\"popolazione\",\"rischio_in_aumento\",\"controllati\",\"id_asl\"]\n"
   ]
  },
  {
   "cell_type": "code",
   "execution_count": 8,
   "metadata": {},
   "outputs": [
    {
     "name": "stdout",
     "output_type": "stream",
     "text": [
      "Connecting to the PostgreSQL database...\n",
      "Connection successful\n"
     ]
    }
   ],
   "source": [
    "conn_ = connect(param_dic)\n"
   ]
  },
  {
   "cell_type": "code",
   "execution_count": 9,
   "metadata": {},
   "outputs": [],
   "source": [
    "df_gisa = postgresql_to_dataframe(conn_,\"select * from gisa_completo\",col_names_)"
   ]
  },
  {
   "cell_type": "markdown",
   "metadata": {},
   "source": [
    "## Cleaning"
   ]
  },
  {
   "cell_type": "code",
   "execution_count": 21,
   "metadata": {},
   "outputs": [],
   "source": [
    "df_gisa.categoria_assegnata_da_cu = df_gisa.categoria_assegnata_da_cu[df_gisa.categoria_assegnata_da_cu.isin([1,2,3,4,5,'1','2','3','4','5'])].astype(int)\n",
    "df_gisa.rischio_in_aumento = df_gisa.rischio_in_aumento[df_gisa.rischio_in_aumento.isin([0,1])].astype(int)\n",
    "df_gisa.controllati = df_gisa.controllati.astype(int)\n",
    "df_gisa.id_asl = df_gisa.id_asl.replace(np.nan,0)\n",
    "df_gisa.id_asl = df_gisa.id_asl.astype(int)"
   ]
  },
  {
   "cell_type": "code",
   "execution_count": 22,
   "metadata": {},
   "outputs": [],
   "source": [
    "rapporto_contr_tot = (df_gisa.loc[df_gisa.controllati == 1].groupby('comune').id_stabilimento.count() / df_gisa.groupby('comune').id_stabilimento.count()).sort_values()\n",
    "rapporto_contr_tot.replace(np.nan,0)\n",
    "comuni_rischiosi = list(rapporto_contr_tot[rapporto_contr_tot <= 0.2].keys())\n",
    "aggr_rischiose = df_gisa[(df_gisa.rischio_in_aumento == 1 )].groupby(by='aggregazione').categoria_assegnata_da_cu.mean()\n",
    "aggr_rischiose = list(aggr_rischiose[aggr_rischiose > 3].keys())"
   ]
  },
  {
   "cell_type": "markdown",
   "metadata": {},
   "source": [
    " "
   ]
  },
  {
   "cell_type": "markdown",
   "metadata": {},
   "source": [
    " "
   ]
  },
  {
   "cell_type": "code",
   "execution_count": 23,
   "metadata": {},
   "outputs": [],
   "source": [
    "filter_ = (df_gisa.controllati == 0) & (df_gisa.aggregazione.isin(aggr_rischiose)) & (df_gisa.comune.isin(comuni_rischiosi))"
   ]
  },
  {
   "cell_type": "code",
   "execution_count": 24,
   "metadata": {},
   "outputs": [],
   "source": [
    "da_controllare = df_gisa[filter_]"
   ]
  },
  {
   "cell_type": "code",
   "execution_count": 25,
   "metadata": {},
   "outputs": [
    {
     "name": "stdout",
     "output_type": "stream",
     "text": [
      "Le righe senza asl sono 1845\n"
     ]
    }
   ],
   "source": [
    "print(\"Le righe senza asl sono\",len(da_controllare[-da_controllare.id_asl.isin([201,202,203,204,205,206,207])]))"
   ]
  },
  {
   "cell_type": "markdown",
   "metadata": {},
   "source": [
    "Righe senza asl: "
   ]
  },
  {
   "cell_type": "code",
   "execution_count": 34,
   "metadata": {},
   "outputs": [
    {
     "data": {
      "text/html": [
       "<div>\n",
       "<style scoped>\n",
       "    .dataframe tbody tr th:only-of-type {\n",
       "        vertical-align: middle;\n",
       "    }\n",
       "\n",
       "    .dataframe tbody tr th {\n",
       "        vertical-align: top;\n",
       "    }\n",
       "\n",
       "    .dataframe thead th {\n",
       "        text-align: right;\n",
       "    }\n",
       "</style>\n",
       "<table border=\"1\" class=\"dataframe\">\n",
       "  <thead>\n",
       "    <tr style=\"text-align: right;\">\n",
       "      <th></th>\n",
       "      <th>id_stabilimento</th>\n",
       "      <th>comune</th>\n",
       "      <th>provincia_stab</th>\n",
       "      <th>macroarea</th>\n",
       "      <th>aggregazione</th>\n",
       "      <th>attivita</th>\n",
       "      <th>punteggio</th>\n",
       "      <th>categoria_rischio_stabilimento</th>\n",
       "      <th>categoria_assegnata_da_cu</th>\n",
       "      <th>categoria_ex_ante</th>\n",
       "      <th>popolazione</th>\n",
       "      <th>rischio_in_aumento</th>\n",
       "      <th>controllati</th>\n",
       "      <th>id_asl</th>\n",
       "    </tr>\n",
       "  </thead>\n",
       "  <tbody>\n",
       "    <tr>\n",
       "      <th>197</th>\n",
       "      <td>21098</td>\n",
       "      <td>santa maria capua vetere</td>\n",
       "      <td>caserta</td>\n",
       "      <td>RISTORAZIONE</td>\n",
       "      <td>RISTORAZIONE PUBBLICA</td>\n",
       "      <td>BAR ED ESERCIZI SIMILARI</td>\n",
       "      <td>None</td>\n",
       "      <td>None</td>\n",
       "      <td>NaN</td>\n",
       "      <td>2</td>\n",
       "      <td>None</td>\n",
       "      <td>NaN</td>\n",
       "      <td>0</td>\n",
       "      <td>0</td>\n",
       "    </tr>\n",
       "    <tr>\n",
       "      <th>198</th>\n",
       "      <td>21111</td>\n",
       "      <td>santa maria capua vetere</td>\n",
       "      <td>caserta</td>\n",
       "      <td>COMMERCIO ALIMENTI USO UMANO</td>\n",
       "      <td>COMMERCIO AL DETTAGLIO DI ALIMENTI E BEVANDE</td>\n",
       "      <td>COMMERCIO AL DETTAGLIO DI ALIMENTI E BEVANDE I...</td>\n",
       "      <td>None</td>\n",
       "      <td>None</td>\n",
       "      <td>NaN</td>\n",
       "      <td>2</td>\n",
       "      <td>None</td>\n",
       "      <td>NaN</td>\n",
       "      <td>0</td>\n",
       "      <td>0</td>\n",
       "    </tr>\n",
       "    <tr>\n",
       "      <th>200</th>\n",
       "      <td>21132</td>\n",
       "      <td>santa maria capua vetere</td>\n",
       "      <td>caserta</td>\n",
       "      <td>VEGETALI - PRODUZIONE, TRASFORMAZIONE E CONFEZ...</td>\n",
       "      <td>LAVORAZIONE DI CEREALI, SEMI, LEGUMI E TUBERI</td>\n",
       "      <td>MOLITURA DI FRUMENTO E ALTRI CEREALI</td>\n",
       "      <td>None</td>\n",
       "      <td>None</td>\n",
       "      <td>NaN</td>\n",
       "      <td>2</td>\n",
       "      <td>None</td>\n",
       "      <td>NaN</td>\n",
       "      <td>0</td>\n",
       "      <td>0</td>\n",
       "    </tr>\n",
       "    <tr>\n",
       "      <th>201</th>\n",
       "      <td>21156</td>\n",
       "      <td>santa maria capua vetere</td>\n",
       "      <td>caserta</td>\n",
       "      <td>PRODOTTI DA FORNO E DI PASTICCERIA, GELATI E P...</td>\n",
       "      <td>PRODUZIONE DI CIBI PRONTI IN GENERE</td>\n",
       "      <td>PRODUZIONE DI CIBI PRONTI IN GENERE (PRODOTTI ...</td>\n",
       "      <td>None</td>\n",
       "      <td>None</td>\n",
       "      <td>NaN</td>\n",
       "      <td>3</td>\n",
       "      <td>None</td>\n",
       "      <td>NaN</td>\n",
       "      <td>0</td>\n",
       "      <td>0</td>\n",
       "    </tr>\n",
       "    <tr>\n",
       "      <th>202</th>\n",
       "      <td>21156</td>\n",
       "      <td>santa maria capua vetere</td>\n",
       "      <td>caserta</td>\n",
       "      <td>PRODOTTI DA FORNO E DI PASTICCERIA, GELATI E P...</td>\n",
       "      <td>PRODUZIONE DI PASTA SECCA E/O FRESCA</td>\n",
       "      <td>PRODUZIONE DI PASTE ALIMENTARI, DI CUSCUS E DI...</td>\n",
       "      <td>None</td>\n",
       "      <td>None</td>\n",
       "      <td>NaN</td>\n",
       "      <td>3</td>\n",
       "      <td>None</td>\n",
       "      <td>NaN</td>\n",
       "      <td>0</td>\n",
       "      <td>0</td>\n",
       "    </tr>\n",
       "    <tr>\n",
       "      <th>...</th>\n",
       "      <td>...</td>\n",
       "      <td>...</td>\n",
       "      <td>...</td>\n",
       "      <td>...</td>\n",
       "      <td>...</td>\n",
       "      <td>...</td>\n",
       "      <td>...</td>\n",
       "      <td>...</td>\n",
       "      <td>...</td>\n",
       "      <td>...</td>\n",
       "      <td>...</td>\n",
       "      <td>...</td>\n",
       "      <td>...</td>\n",
       "      <td>...</td>\n",
       "    </tr>\n",
       "    <tr>\n",
       "      <th>237228</th>\n",
       "      <td>1102059</td>\n",
       "      <td>sant'agata de'goti</td>\n",
       "      <td>benevento</td>\n",
       "      <td>RISTORAZIONE</td>\n",
       "      <td>RISTORAZIONE COLLETTIVA (COMUNITA ED EVENTI)</td>\n",
       "      <td>PRODUZIONE PASTI PRONTI PER RISTORAZIONE COLLE...</td>\n",
       "      <td>None</td>\n",
       "      <td>None</td>\n",
       "      <td>NaN</td>\n",
       "      <td>3</td>\n",
       "      <td>None</td>\n",
       "      <td>NaN</td>\n",
       "      <td>0</td>\n",
       "      <td>0</td>\n",
       "    </tr>\n",
       "    <tr>\n",
       "      <th>237374</th>\n",
       "      <td>1103047</td>\n",
       "      <td>sant'agata de'goti</td>\n",
       "      <td>benevento</td>\n",
       "      <td>RISTORAZIONE</td>\n",
       "      <td>RISTORAZIONE PUBBLICA</td>\n",
       "      <td>RISTORAZIONE CON SOMMIMISTRAZIONE DIRETTA (ANC...</td>\n",
       "      <td>None</td>\n",
       "      <td>None</td>\n",
       "      <td>NaN</td>\n",
       "      <td>3</td>\n",
       "      <td>None</td>\n",
       "      <td>NaN</td>\n",
       "      <td>0</td>\n",
       "      <td>0</td>\n",
       "    </tr>\n",
       "    <tr>\n",
       "      <th>237395</th>\n",
       "      <td>1103195</td>\n",
       "      <td>sant'agata de'goti</td>\n",
       "      <td>benevento</td>\n",
       "      <td>RISTORAZIONE</td>\n",
       "      <td>RISTORAZIONE PUBBLICA</td>\n",
       "      <td>RISTORAZIONE CON SOMMIMISTRAZIONE DIRETTA (ANC...</td>\n",
       "      <td>None</td>\n",
       "      <td>None</td>\n",
       "      <td>NaN</td>\n",
       "      <td>3</td>\n",
       "      <td>None</td>\n",
       "      <td>NaN</td>\n",
       "      <td>0</td>\n",
       "      <td>0</td>\n",
       "    </tr>\n",
       "    <tr>\n",
       "      <th>237481</th>\n",
       "      <td>1103852</td>\n",
       "      <td>sant'agata de'goti</td>\n",
       "      <td>benevento</td>\n",
       "      <td>RISTORAZIONE</td>\n",
       "      <td>RISTORAZIONE PUBBLICA</td>\n",
       "      <td>RISTORAZIONE CON SOMMIMISTRAZIONE DIRETTA (ANC...</td>\n",
       "      <td>None</td>\n",
       "      <td>None</td>\n",
       "      <td>NaN</td>\n",
       "      <td>3</td>\n",
       "      <td>None</td>\n",
       "      <td>NaN</td>\n",
       "      <td>0</td>\n",
       "      <td>0</td>\n",
       "    </tr>\n",
       "    <tr>\n",
       "      <th>245839</th>\n",
       "      <td>100001893</td>\n",
       "      <td>santa maria capua vetere</td>\n",
       "      <td>caserta</td>\n",
       "      <td>PRODUZIONE E TRASFORMAZIONE DI ALIMENTI IN STA...</td>\n",
       "      <td>9 - LATTE CRUDO E DERIVATI</td>\n",
       "      <td>PP STABILIMENTO DI TRASFORMAZIONE</td>\n",
       "      <td>None</td>\n",
       "      <td>None</td>\n",
       "      <td>NaN</td>\n",
       "      <td>3</td>\n",
       "      <td>None</td>\n",
       "      <td>NaN</td>\n",
       "      <td>0</td>\n",
       "      <td>0</td>\n",
       "    </tr>\n",
       "  </tbody>\n",
       "</table>\n",
       "<p>1845 rows × 14 columns</p>\n",
       "</div>"
      ],
      "text/plain": [
       "       id_stabilimento                    comune provincia_stab  \\\n",
       "197              21098  santa maria capua vetere        caserta   \n",
       "198              21111  santa maria capua vetere        caserta   \n",
       "200              21132  santa maria capua vetere        caserta   \n",
       "201              21156  santa maria capua vetere        caserta   \n",
       "202              21156  santa maria capua vetere        caserta   \n",
       "...                ...                       ...            ...   \n",
       "237228         1102059        sant'agata de'goti      benevento   \n",
       "237374         1103047        sant'agata de'goti      benevento   \n",
       "237395         1103195        sant'agata de'goti      benevento   \n",
       "237481         1103852        sant'agata de'goti      benevento   \n",
       "245839       100001893  santa maria capua vetere        caserta   \n",
       "\n",
       "                                                macroarea  \\\n",
       "197                                          RISTORAZIONE   \n",
       "198                          COMMERCIO ALIMENTI USO UMANO   \n",
       "200     VEGETALI - PRODUZIONE, TRASFORMAZIONE E CONFEZ...   \n",
       "201     PRODOTTI DA FORNO E DI PASTICCERIA, GELATI E P...   \n",
       "202     PRODOTTI DA FORNO E DI PASTICCERIA, GELATI E P...   \n",
       "...                                                   ...   \n",
       "237228                                       RISTORAZIONE   \n",
       "237374                                       RISTORAZIONE   \n",
       "237395                                       RISTORAZIONE   \n",
       "237481                                       RISTORAZIONE   \n",
       "245839  PRODUZIONE E TRASFORMAZIONE DI ALIMENTI IN STA...   \n",
       "\n",
       "                                         aggregazione  \\\n",
       "197                             RISTORAZIONE PUBBLICA   \n",
       "198      COMMERCIO AL DETTAGLIO DI ALIMENTI E BEVANDE   \n",
       "200     LAVORAZIONE DI CEREALI, SEMI, LEGUMI E TUBERI   \n",
       "201               PRODUZIONE DI CIBI PRONTI IN GENERE   \n",
       "202              PRODUZIONE DI PASTA SECCA E/O FRESCA   \n",
       "...                                               ...   \n",
       "237228   RISTORAZIONE COLLETTIVA (COMUNITA ED EVENTI)   \n",
       "237374                          RISTORAZIONE PUBBLICA   \n",
       "237395                          RISTORAZIONE PUBBLICA   \n",
       "237481                          RISTORAZIONE PUBBLICA   \n",
       "245839                     9 - LATTE CRUDO E DERIVATI   \n",
       "\n",
       "                                                 attivita punteggio  \\\n",
       "197                              BAR ED ESERCIZI SIMILARI      None   \n",
       "198     COMMERCIO AL DETTAGLIO DI ALIMENTI E BEVANDE I...      None   \n",
       "200                  MOLITURA DI FRUMENTO E ALTRI CEREALI      None   \n",
       "201     PRODUZIONE DI CIBI PRONTI IN GENERE (PRODOTTI ...      None   \n",
       "202     PRODUZIONE DI PASTE ALIMENTARI, DI CUSCUS E DI...      None   \n",
       "...                                                   ...       ...   \n",
       "237228  PRODUZIONE PASTI PRONTI PER RISTORAZIONE COLLE...      None   \n",
       "237374  RISTORAZIONE CON SOMMIMISTRAZIONE DIRETTA (ANC...      None   \n",
       "237395  RISTORAZIONE CON SOMMIMISTRAZIONE DIRETTA (ANC...      None   \n",
       "237481  RISTORAZIONE CON SOMMIMISTRAZIONE DIRETTA (ANC...      None   \n",
       "245839                  PP STABILIMENTO DI TRASFORMAZIONE      None   \n",
       "\n",
       "       categoria_rischio_stabilimento  categoria_assegnata_da_cu  \\\n",
       "197                              None                        NaN   \n",
       "198                              None                        NaN   \n",
       "200                              None                        NaN   \n",
       "201                              None                        NaN   \n",
       "202                              None                        NaN   \n",
       "...                               ...                        ...   \n",
       "237228                           None                        NaN   \n",
       "237374                           None                        NaN   \n",
       "237395                           None                        NaN   \n",
       "237481                           None                        NaN   \n",
       "245839                           None                        NaN   \n",
       "\n",
       "       categoria_ex_ante popolazione  rischio_in_aumento  controllati  id_asl  \n",
       "197                    2        None                 NaN            0       0  \n",
       "198                    2        None                 NaN            0       0  \n",
       "200                    2        None                 NaN            0       0  \n",
       "201                    3        None                 NaN            0       0  \n",
       "202                    3        None                 NaN            0       0  \n",
       "...                  ...         ...                 ...          ...     ...  \n",
       "237228                 3        None                 NaN            0       0  \n",
       "237374                 3        None                 NaN            0       0  \n",
       "237395                 3        None                 NaN            0       0  \n",
       "237481                 3        None                 NaN            0       0  \n",
       "245839                 3        None                 NaN            0       0  \n",
       "\n",
       "[1845 rows x 14 columns]"
      ]
     },
     "execution_count": 34,
     "metadata": {},
     "output_type": "execute_result"
    }
   ],
   "source": [
    "da_controllare[-da_controllare.id_asl.isin([201,202,203,204,205,206,207])]"
   ]
  },
  {
   "cell_type": "code",
   "execution_count": null,
   "metadata": {},
   "outputs": [],
   "source": []
  }
 ],
 "metadata": {
  "kernelspec": {
   "display_name": "Python 3",
   "language": "python",
   "name": "python3"
  },
  "language_info": {
   "codemirror_mode": {
    "name": "ipython",
    "version": 3
   },
   "file_extension": ".py",
   "mimetype": "text/x-python",
   "name": "python",
   "nbconvert_exporter": "python",
   "pygments_lexer": "ipython3",
   "version": "3.8.5"
  }
 },
 "nbformat": 4,
 "nbformat_minor": 4
}
