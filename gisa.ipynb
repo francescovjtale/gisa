{
 "cells": [
  {
   "cell_type": "code",
   "execution_count": 4,
   "metadata": {},
   "outputs": [],
   "source": [
    "import pandas as pd \n",
    "import psycopg2\n",
    "import matplotlib.pyplot as plt"
   ]
  },
  {
   "cell_type": "markdown",
   "metadata": {},
   "source": [
    " "
   ]
  },
  {
   "cell_type": "markdown",
   "metadata": {},
   "source": [
    "### Funzioni per connettere il database e trasformarlo in un DataFrame pandas:\n"
   ]
  },
  {
   "cell_type": "code",
   "execution_count": 5,
   "metadata": {},
   "outputs": [],
   "source": [
    "def connect(params_dic):\n",
    "    \"\"\" Per connettersi al database PostgreSQL \"\"\"\n",
    "    conn = None\n",
    "    try:\n",
    "        print('Connecting to the PostgreSQL database...')\n",
    "        conn = psycopg2.connect(**params_dic)\n",
    "    except (Exception, psycopg2.DatabaseError) as error:\n",
    "        print(error)\n",
    "        sys.exit(1) \n",
    "    print(\"Connection successful\")\n",
    "    return conn\n",
    "\n",
    "\n",
    "\n",
    "def postgresql_to_dataframe(conn, select_query, column_names):\n",
    "    \"\"\"\n",
    "    Trasforma una query SELECT in un dataframe pandas\n",
    "    \"\"\"\n",
    "    cursor = conn.cursor()\n",
    "    try:\n",
    "        cursor.execute(select_query)\n",
    "    except (Exception, psycopg2.DatabaseError) as error:\n",
    "        print(\"Error: %s\" % error)\n",
    "        cursor.close()\n",
    "        return 1\n",
    "    \n",
    "    # Otteniamo una lista di tuple\n",
    "    tupples = cursor.fetchall()\n",
    "    cursor.close()\n",
    "    \n",
    "    # Convertiamo la lista di tuple in un DataFrame pandas\n",
    "    df = pd.DataFrame(tupples, columns=column_names)\n",
    "    return df"
   ]
  },
  {
   "cell_type": "markdown",
   "metadata": {},
   "source": [
    " "
   ]
  },
  {
   "cell_type": "markdown",
   "metadata": {},
   "source": [
    "\n",
    "Connessione al database:"
   ]
  },
  {
   "cell_type": "code",
   "execution_count": 84,
   "metadata": {},
   "outputs": [
    {
     "name": "stdout",
     "output_type": "stream",
     "text": [
      "Connecting to the PostgreSQL database...\n",
      "Connection successful\n"
     ]
    }
   ],
   "source": [
    "param_dic = {\n",
    "    \"host\"      : \"localhost\",\n",
    "    \"database\"  : \"gisa\",\n",
    "    \"user\"      : \"postgres\",\n",
    "    \"password\"  : \"12345\"\n",
    "}\n",
    "\n",
    "conn = connect(param_dic)"
   ]
  },
  {
   "cell_type": "markdown",
   "metadata": {},
   "source": [
    " "
   ]
  },
  {
   "cell_type": "markdown",
   "metadata": {},
   "source": [
    "Conversione in un Pandas dataframe: "
   ]
  },
  {
   "cell_type": "code",
   "execution_count": 85,
   "metadata": {},
   "outputs": [
    {
     "data": {
      "text/html": [
       "<div>\n",
       "<style scoped>\n",
       "    .dataframe tbody tr th:only-of-type {\n",
       "        vertical-align: middle;\n",
       "    }\n",
       "\n",
       "    .dataframe tbody tr th {\n",
       "        vertical-align: top;\n",
       "    }\n",
       "\n",
       "    .dataframe thead th {\n",
       "        text-align: right;\n",
       "    }\n",
       "</style>\n",
       "<table border=\"1\" class=\"dataframe\">\n",
       "  <thead>\n",
       "    <tr style=\"text-align: right;\">\n",
       "      <th></th>\n",
       "      <th>id_controllo</th>\n",
       "      <th>id_stabilimento</th>\n",
       "      <th>riferimento_nome_tab</th>\n",
       "      <th>id_asl</th>\n",
       "      <th>comune</th>\n",
       "      <th>provincia_stab</th>\n",
       "      <th>data_inizio_attivita</th>\n",
       "      <th>macroarea</th>\n",
       "      <th>aggregazione</th>\n",
       "      <th>attivita</th>\n",
       "      <th>tipo_categorizzazione</th>\n",
       "      <th>id_controllo_ultima_categorizzazione</th>\n",
       "      <th>punteggio</th>\n",
       "      <th>data_inizio_controllo</th>\n",
       "      <th>categoria_rischio_stabilimento</th>\n",
       "      <th>categoria_assegnata_da_cu</th>\n",
       "      <th>categoria_ex_ante</th>\n",
       "    </tr>\n",
       "  </thead>\n",
       "  <tbody>\n",
       "    <tr>\n",
       "      <th>0</th>\n",
       "      <td>15581</td>\n",
       "      <td>302600</td>\n",
       "      <td>opu_stabilimento</td>\n",
       "      <td>201</td>\n",
       "      <td>BONITO</td>\n",
       "      <td>avellino</td>\n",
       "      <td>2009-12-03 00:00:00</td>\n",
       "      <td>COMMERCIO ALIMENTI USO UMANO</td>\n",
       "      <td>COMMERCIO AL DETTAGLIO DI ALIMENTI E BEVANDE</td>\n",
       "      <td>COMMERCIO AL DETTAGLIO DI ALIMENTI E BEVANDE I...</td>\n",
       "      <td>CATEGORIZZATO DA CU</td>\n",
       "      <td>15581</td>\n",
       "      <td>62</td>\n",
       "      <td>2010-01-15 00:00:00</td>\n",
       "      <td>1</td>\n",
       "      <td>1</td>\n",
       "      <td>2</td>\n",
       "    </tr>\n",
       "    <tr>\n",
       "      <th>1</th>\n",
       "      <td>126535</td>\n",
       "      <td>303036</td>\n",
       "      <td>opu_stabilimento</td>\n",
       "      <td>201</td>\n",
       "      <td>ATRIPALDA</td>\n",
       "      <td>avellino</td>\n",
       "      <td>2007-04-24 00:00:00</td>\n",
       "      <td>COMMERCIO ALIMENTI USO UMANO</td>\n",
       "      <td>COMMERCIO ALL'INGROSSO DI ALIMENTI E BEVANDE, ...</td>\n",
       "      <td>CASH &amp; CARRY</td>\n",
       "      <td>CATEGORIZZATO DA CU</td>\n",
       "      <td>126535</td>\n",
       "      <td>170</td>\n",
       "      <td>2011-07-12 00:00:00</td>\n",
       "      <td>2</td>\n",
       "      <td>2</td>\n",
       "      <td>3</td>\n",
       "    </tr>\n",
       "    <tr>\n",
       "      <th>2</th>\n",
       "      <td>22427</td>\n",
       "      <td>36978</td>\n",
       "      <td>organization</td>\n",
       "      <td>206</td>\n",
       "      <td>SAVIANO</td>\n",
       "      <td>napoli</td>\n",
       "      <td>2012-03-22 00:00:00</td>\n",
       "      <td>COMMERCIO ALIMENTI USO UMANO</td>\n",
       "      <td>COMMERCIO AL DETTAGLIO DI ALIMENTI E BEVANDE</td>\n",
       "      <td>COMMERCIO AL DETTAGLIO DI ALIMENTI E BEVANDE I...</td>\n",
       "      <td>CATEGORIZZATO DA CU</td>\n",
       "      <td>819104</td>\n",
       "      <td>59</td>\n",
       "      <td>2010-06-15 00:00:00</td>\n",
       "      <td>1</td>\n",
       "      <td>1</td>\n",
       "      <td>2</td>\n",
       "    </tr>\n",
       "    <tr>\n",
       "      <th>3</th>\n",
       "      <td>23072</td>\n",
       "      <td>531077</td>\n",
       "      <td>organization</td>\n",
       "      <td>204</td>\n",
       "      <td>NAPOLI</td>\n",
       "      <td>napoli</td>\n",
       "      <td>2008-03-14 00:00:00</td>\n",
       "      <td>COMMERCIO ALIMENTI USO UMANO</td>\n",
       "      <td>COMMERCIO ALL'INGROSSO DI ALIMENTI E BEVANDE, ...</td>\n",
       "      <td>CASH &amp; CARRY</td>\n",
       "      <td>CATEGORIZZATO DA CU</td>\n",
       "      <td>682165</td>\n",
       "      <td>315</td>\n",
       "      <td>2010-06-14 00:00:00</td>\n",
       "      <td>2</td>\n",
       "      <td>3</td>\n",
       "      <td>3</td>\n",
       "    </tr>\n",
       "    <tr>\n",
       "      <th>4</th>\n",
       "      <td>196788</td>\n",
       "      <td>282868</td>\n",
       "      <td>opu_stabilimento</td>\n",
       "      <td>201</td>\n",
       "      <td>AVELLINO</td>\n",
       "      <td>avellino</td>\n",
       "      <td>2012-07-24 00:00:00</td>\n",
       "      <td>RISTORAZIONE</td>\n",
       "      <td>RISTORAZIONE PUBBLICA</td>\n",
       "      <td>BAR ED ESERCIZI SIMILARI</td>\n",
       "      <td>CATEGORIZZATO DA CU</td>\n",
       "      <td>196788</td>\n",
       "      <td>115</td>\n",
       "      <td>2012-07-24 00:00:00</td>\n",
       "      <td>1</td>\n",
       "      <td>1</td>\n",
       "      <td>2</td>\n",
       "    </tr>\n",
       "  </tbody>\n",
       "</table>\n",
       "</div>"
      ],
      "text/plain": [
       "  id_controllo id_stabilimento riferimento_nome_tab id_asl     comune  \\\n",
       "0        15581          302600     opu_stabilimento    201     BONITO   \n",
       "1       126535          303036     opu_stabilimento    201  ATRIPALDA   \n",
       "2        22427           36978         organization    206    SAVIANO   \n",
       "3        23072          531077         organization    204     NAPOLI   \n",
       "4       196788          282868     opu_stabilimento    201   AVELLINO   \n",
       "\n",
       "  provincia_stab data_inizio_attivita                     macroarea  \\\n",
       "0       avellino  2009-12-03 00:00:00  COMMERCIO ALIMENTI USO UMANO   \n",
       "1       avellino  2007-04-24 00:00:00  COMMERCIO ALIMENTI USO UMANO   \n",
       "2         napoli  2012-03-22 00:00:00  COMMERCIO ALIMENTI USO UMANO   \n",
       "3         napoli  2008-03-14 00:00:00  COMMERCIO ALIMENTI USO UMANO   \n",
       "4       avellino  2012-07-24 00:00:00                  RISTORAZIONE   \n",
       "\n",
       "                                        aggregazione  \\\n",
       "0       COMMERCIO AL DETTAGLIO DI ALIMENTI E BEVANDE   \n",
       "1  COMMERCIO ALL'INGROSSO DI ALIMENTI E BEVANDE, ...   \n",
       "2       COMMERCIO AL DETTAGLIO DI ALIMENTI E BEVANDE   \n",
       "3  COMMERCIO ALL'INGROSSO DI ALIMENTI E BEVANDE, ...   \n",
       "4                              RISTORAZIONE PUBBLICA   \n",
       "\n",
       "                                            attivita tipo_categorizzazione  \\\n",
       "0  COMMERCIO AL DETTAGLIO DI ALIMENTI E BEVANDE I...   CATEGORIZZATO DA CU   \n",
       "1                                       CASH & CARRY   CATEGORIZZATO DA CU   \n",
       "2  COMMERCIO AL DETTAGLIO DI ALIMENTI E BEVANDE I...   CATEGORIZZATO DA CU   \n",
       "3                                       CASH & CARRY   CATEGORIZZATO DA CU   \n",
       "4                           BAR ED ESERCIZI SIMILARI   CATEGORIZZATO DA CU   \n",
       "\n",
       "  id_controllo_ultima_categorizzazione punteggio data_inizio_controllo  \\\n",
       "0                                15581        62   2010-01-15 00:00:00   \n",
       "1                               126535       170   2011-07-12 00:00:00   \n",
       "2                               819104        59   2010-06-15 00:00:00   \n",
       "3                               682165       315   2010-06-14 00:00:00   \n",
       "4                               196788       115   2012-07-24 00:00:00   \n",
       "\n",
       "  categoria_rischio_stabilimento categoria_assegnata_da_cu categoria_ex_ante  \n",
       "0                              1                         1                 2  \n",
       "1                              2                         2                 3  \n",
       "2                              1                         1                 2  \n",
       "3                              2                         3                 3  \n",
       "4                              1                         1                 2  "
      ]
     },
     "execution_count": 85,
     "metadata": {},
     "output_type": "execute_result"
    }
   ],
   "source": [
    "column_names = [\"id_controllo\",\"id_stabilimento\",\"riferimento_nome_tab\",\"id_asl\",\"comune\",\"provincia_stab\",\"data_inizio_attivita\",\"macroarea\",\"aggregazione\",\"attivita\",\"tipo_categorizzazione\",\"id_controllo_ultima_categorizzazione\",\"punteggio\",\"data_inizio_controllo\",\"categoria_rischio_stabilimento\",\"categoria_assegnata_da_cu\",\"categoria_ex_ante\"]\n",
    "df = postgresql_to_dataframe(conn,\"select * from dataset_clean where lower(provincia_stab) != 'null'\",column_names)\n",
    "df.head()"
   ]
  },
  {
   "cell_type": "code",
   "execution_count": 86,
   "metadata": {},
   "outputs": [
    {
     "data": {
      "text/plain": [
       "napoli       32938\n",
       "salerno      11768\n",
       "caserta       9859\n",
       "benevento     5992\n",
       "avellino      3572\n",
       "Name: provincia_stab, dtype: int64"
      ]
     },
     "execution_count": 86,
     "metadata": {},
     "output_type": "execute_result"
    }
   ],
   "source": [
    "df[\"provincia_stab\"]= df[\"provincia_stab\"].apply(str.lower)\n",
    "df.provincia_stab.value_counts()"
   ]
  },
  {
   "cell_type": "markdown",
   "metadata": {},
   "source": [
    " "
   ]
  },
  {
   "cell_type": "markdown",
   "metadata": {},
   "source": [
    "Sostituisco i \"NULL\" con 3"
   ]
  },
  {
   "cell_type": "code",
   "execution_count": 141,
   "metadata": {},
   "outputs": [],
   "source": [
    "df[\"categoria_rischio_stabilimento\"]= df[\"categoria_rischio_stabilimento\"].replace(\"NULL\",3)\n",
    "df[\"punteggio\"]= df[\"punteggio\"].replace(\"NULL\",0)\n",
    "df[\"categoria_assegnata_da_cu\"]= df[\"categoria_assegnata_da_cu\"].replace(\"NULL\",3)\n",
    "df[\"categoria_ex_ante\"]= df[\"categoria_ex_ante\"].replace(\"NULL\",3)"
   ]
  },
  {
   "cell_type": "markdown",
   "metadata": {},
   "source": [
    " "
   ]
  },
  {
   "cell_type": "markdown",
   "metadata": {},
   "source": [
    "Rendo i campi numerici, da stringhe a interi"
   ]
  },
  {
   "cell_type": "code",
   "execution_count": 142,
   "metadata": {},
   "outputs": [],
   "source": [
    "df['categoria_rischio_stabilimento'] = df['categoria_rischio_stabilimento'].astype(int)\n",
    "df['punteggio'] = df['punteggio'].astype(int)\n",
    "df['id_asl'] = df['id_asl'].astype(int)\n",
    "df['categoria_assegnata_da_cu'] = df['categoria_assegnata_da_cu'].astype(int)\n",
    "df['categoria_ex_ante'] = df['categoria_ex_ante'].astype(int)"
   ]
  },
  {
   "cell_type": "markdown",
   "metadata": {},
   "source": [
    " "
   ]
  },
  {
   "cell_type": "code",
   "execution_count": 147,
   "metadata": {},
   "outputs": [
    {
     "name": "stdout",
     "output_type": "stream",
     "text": [
      "media categoria_rischio_stabilimento: \n",
      " {'napoli': 1.639, 'salerno': 2.035, 'caserta': 1.543, 'benevento': 1.699, 'avellino': 1.504} \n",
      "\n",
      "media categoria_assegnata_da_cu: \n",
      " {'napoli': 1.641, 'salerno': 2.033, 'caserta': 1.526, 'benevento': 1.707, 'avellino': 1.508} \n",
      "\n",
      "media categoria_ex_ante: \n",
      " {'napoli': 2.599, 'salerno': 2.65, 'caserta': 2.55, 'benevento': 2.657, 'avellino': 2.616}\n"
     ]
    }
   ],
   "source": [
    "province = [\"napoli\",\"salerno\",\"caserta\",\"benevento\",\"avellino\"]\n",
    "prov_mean_stab = {}\n",
    "prov_mean_cu = {}\n",
    "prov_mean_exante = {}\n",
    "for prov in province:\n",
    "    x = round(df.categoria_rischio_stabilimento.loc[df.provincia_stab == prov].mean(),3)\n",
    "    prov_mean_stab[prov] = x\n",
    "    \n",
    "for prov in provincie:\n",
    "    x = round(df.categoria_assegnata_da_cu.loc[df.provincia_stab == prov].mean(),3)\n",
    "    prov_mean_cu[prov] = x\n",
    "\n",
    "for prov in province:\n",
    "    x = round(df.categoria_ex_ante.loc[df.provincia_stab == prov].mean(),3)\n",
    "    prov_mean_exante[prov] = x\n",
    "print(\"media categoria_rischio_stabilimento: \\n\",prov_mean_stab,\"\\n\")\n",
    "print(\"media categoria_assegnata_da_cu: \\n\",prov_mean_cu,\"\\n\")\n",
    "print(\"media categoria_ex_ante: \\n\",prov_mean_exante)"
   ]
  },
  {
   "cell_type": "markdown",
   "metadata": {},
   "source": [
    " "
   ]
  },
  {
   "cell_type": "code",
   "execution_count": 149,
   "metadata": {},
   "outputs": [
    {
     "data": {
      "image/png": "[encoded data removed]",
      "text/plain": [
       "<Figure size 1224x432 with 3 Axes>"
      ]
     },
     "metadata": {
      "needs_background": "light"
     },
     "output_type": "display_data"
    }
   ],
   "source": [
    "fig, (ax1, ax2, ax3) = plt.subplots(1,3,figsize = (17, 6))\n",
    "fig.suptitle(\"Media per tipologia di categoria di rischio\", fontsize = 16)\n",
    "\n",
    "ax1.bar(prov_mean_stab.keys(),prov_mean_stab.values(),color=\"lightblue\")\n",
    "ax1.set(title=\"categoria_rischio_stabilimento\")\n",
    "\n",
    "ax2.bar(prov_mean_cu.keys(),prov_mean_cu.values())\n",
    "ax2.set(title=\"categoria_assegnata_da_cu\")\n",
    "\n",
    "ax3.bar(prov_mean_exante.keys(),prov_mean_exante.values(),color=\"darkblue\")\n",
    "ax3.set(title=\"categoria_ex_ante\")\n",
    "\n",
    "plt.show()"
   ]
  },
  {
   "cell_type": "code",
   "execution_count": 177,
   "metadata": {},
   "outputs": [
    {
     "data": {
      "image/png": "[encoded data removed]",
      "text/plain": [
       "<Figure size 1296x432 with 3 Axes>"
      ]
     },
     "metadata": {
      "needs_background": "light"
     },
     "output_type": "display_data"
    },
    {
     "name": "stdout",
     "output_type": "stream",
     "text": [
      "\n",
      "Numero di CU per provincia: \n",
      " {'avellino': 3572, 'benevento': 5992, 'caserta': 9859, 'napoli': 32938, 'salerno': 11768} \n",
      "\n",
      "\n",
      "Numero di stabilimenti controllati per provincia: \n",
      " {'avellino': 1968, 'benevento': 2569, 'caserta': 5463, 'napoli': 16417, 'salerno': 5213} \n",
      "\n"
     ]
    }
   ],
   "source": [
    "numero_cu = df.groupby(by=\"provincia_stab\")[\"id_stabilimento\"].describe()[\"count\"]\n",
    "numero_stab = df.groupby(by=\"provincia_stab\")[\"id_stabilimento\"].describe()[\"unique\"]\n",
    "cu_per_provincia = {key:value for key,value in numero_cu.items()}\n",
    "stab_per_provincia = {key:value for key,value in numero_stab.items()}\n",
    "rapporto_cu_stab = numero_cu/numero_stab \n",
    "\n",
    "fig, (ax1,ax2,ax3) = plt.subplots(1,3,figsize = (18, 6))\n",
    "\n",
    "ax1.bar(cu_per_provincia.keys(),cu_per_provincia.values())\n",
    "ax1.set(title=\"CU per provincia\")\n",
    "\n",
    "ax2.bar(stab_per_provincia.keys(),stab_per_provincia.values())\n",
    "ax2.set(title=\"Numero di stabilimenti controllati per provincia\")\n",
    "\n",
    "ax3.bar(rapporto_cu_stab.keys(),rapporto_cu_stab.values)\n",
    "ax3.set(title=\"Rapporto fra stabilimenti controllati e controlli per provincia\")\n",
    "plt.show()\n",
    "print(\"\\nNumero di CU per provincia: \\n\",cu_per_provincia,\"\\n\")\n",
    "print(\"\\nNumero di stabilimenti controllati per provincia: \\n\",stab_per_provincia,\"\\n\")"
   ]
  },
  {
   "cell_type": "code",
   "execution_count": null,
   "metadata": {},
   "outputs": [],
   "source": [
    "\n",
    "\n"
   ]
  }
 ],
 "metadata": {
  "kernelspec": {
   "display_name": "Python 3",
   "language": "python",
   "name": "python3"
  },
  "language_info": {
   "codemirror_mode": {
    "name": "ipython",
    "version": 3
   },
   "file_extension": ".py",
   "mimetype": "text/x-python",
   "name": "python",
   "nbconvert_exporter": "python",
   "pygments_lexer": "ipython3",
   "version": "3.8.5"
  }
 },
 "nbformat": 4,
 "nbformat_minor": 4
}
